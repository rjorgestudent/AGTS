{
 "cells": [
  {
   "cell_type": "markdown",
   "metadata": {},
   "source": [
    "# Imports"
   ]
  },
  {
   "cell_type": "code",
   "execution_count": 1,
   "metadata": {
    "collapsed": false
   },
   "outputs": [],
   "source": [
    "%run data.py\n",
    "%matplotlib inline\n",
    "\n",
    "import time\n",
    "import math\n",
    "import theano\n",
    "import theano.tensor as T\n",
    "import lasagne\n",
    "import numpy as np\n",
    "import matplotlib.pyplot as plt\n",
    "import scipy.ndimage as ndimage\n",
    "import scipy.ndimage.filters as filters\n",
    "\n",
    "from skimage import measure\n",
    "#from data import generate as generate_training_data\n",
    "#from network import setup as setup_network\n",
    "\n",
    "def sample_box(img, x, y):\n",
    "        box = np.zeros((1,1,box_size,box_size))\n",
    "        margin = int(math.floor(box_size / 2))\n",
    "        box[0:,0:,:]=img[x-margin:x+margin+1, y-margin:y+margin+1]\n",
    "        return box"
   ]
  },
  {
   "cell_type": "markdown",
   "metadata": {},
   "source": [
    "# Parametros"
   ]
  },
  {
   "cell_type": "code",
   "execution_count": 2,
   "metadata": {
    "collapsed": false
   },
   "outputs": [
    {
     "name": "stdout",
     "output_type": "stream",
     "text": [
      "Tamano total del set de entrenamiento?\n",
      "5\n",
      "Tamano del aguacate en pixeles?\n",
      "31\n"
     ]
    }
   ],
   "source": [
    "print(\"Tamano total del set de entrenamiento?\")\n",
    "totData      = int(input())\n",
    "\n",
    "print(\"Tamano del aguacate en pixeles?\")\n",
    "nbrTrainData = int(math.floor(0.7*totData))\n",
    "\n",
    "box_size      = int(input())\n",
    "num_epochs    = 15\n",
    "learning_rate = 0.00004\n",
    "sample_radius = 2"
   ]
  },
  {
   "cell_type": "markdown",
   "metadata": {},
   "source": [
    "# Generar training data y visualizar"
   ]
  },
  {
   "cell_type": "code",
   "execution_count": 18,
   "metadata": {
    "collapsed": false
   },
   "outputs": [
    {
     "name": "stdout",
     "output_type": "stream",
     "text": [
      "/media/R2D2/LectorImagenes/dataset/avocados_1.jpg\n",
      "/media/R2D2/LectorImagenes/dataset/avocados_2.jpg\n"
     ]
    }
   ],
   "source": [
    "#for x in range(1,nbrTrainData+1):\n",
    "    #imPath=rootImage(x)\n",
    "t_samples, t_labels, t_img = generate_training_data(\"train\",\n",
    "                                                    totImages       = totData,\n",
    "                                                    trainImages     = nbrTrainData,\n",
    "                                                    box_size        = box_size,\n",
    "                                                    sample_radius   = sample_radius,\n",
    "                                                    enable_plotting = False)"
   ]
  },
  {
   "cell_type": "code",
   "execution_count": null,
   "metadata": {
    "collapsed": false
   },
   "outputs": [],
   "source": []
  },
  {
   "cell_type": "code",
   "execution_count": null,
   "metadata": {
    "collapsed": true
   },
   "outputs": [],
   "source": []
  }
 ],
 "metadata": {
  "kernelspec": {
   "display_name": "Python 2",
   "language": "python",
   "name": "python2"
  },
  "language_info": {
   "codemirror_mode": {
    "name": "ipython",
    "version": 2
   },
   "file_extension": ".py",
   "mimetype": "text/x-python",
   "name": "python",
   "nbconvert_exporter": "python",
   "pygments_lexer": "ipython2",
   "version": "2.7.11"
  }
 },
 "nbformat": 4,
 "nbformat_minor": 0
}
