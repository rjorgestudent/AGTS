{
 "cells": [
  {
   "cell_type": "markdown",
   "metadata": {},
   "source": [
    "# Load"
   ]
  },
  {
   "cell_type": "code",
   "execution_count": 1,
   "metadata": {
    "collapsed": false
   },
   "outputs": [],
   "source": [
    "import scipy.ndimage.filters as filters\n",
    "\n",
    "import math\n",
    "import matplotlib.pyplot as plt\n",
    "import skimage.data\n",
    "import os\n",
    "import lasagne\n",
    "import theano\n",
    "import theano.tensor as T\n",
    "import numpy as np\n",
    "from mnist import main\n",
    "from load import loadNetwork\n",
    "from load import leertxt"
   ]
  },
  {
   "cell_type": "markdown",
   "metadata": {},
   "source": [
    "# Nombre archivo de fruta"
   ]
  },
  {
   "cell_type": "code",
   "execution_count": 2,
   "metadata": {
    "collapsed": true
   },
   "outputs": [],
   "source": [
    "nombre = '/home/jorge/Dropbox/AGTS/LectorImagenes/modelo.txt'"
   ]
  },
  {
   "cell_type": "markdown",
   "metadata": {},
   "source": [
    "# Iniciar carga"
   ]
  },
  {
   "cell_type": "code",
   "execution_count": 3,
   "metadata": {
    "collapsed": false
   },
   "outputs": [],
   "source": [
    "Depth,  Width, Drop_in, Drop_hid, Box_size = leertxt(nombre)\n"
   ]
  },
  {
   "cell_type": "code",
   "execution_count": 4,
   "metadata": {
    "collapsed": false
   },
   "outputs": [],
   "source": [
    "Parameters = str(Depth) +','+ str(Width) +','+ str(Drop_in) +','+ str(Drop_hid) +','+ str(Box_size)\n",
    "input_var = T.tensor4('inputs')\n",
    "target_var = T.ivector('targets')"
   ]
  },
  {
   "cell_type": "code",
   "execution_count": 5,
   "metadata": {
    "collapsed": false
   },
   "outputs": [
    {
     "name": "stdout",
     "output_type": "stream",
     "text": [
      "Loading data...\n",
      "Building model and compiling functions...\n",
      "Starting training...\n",
      "Epoch 1 of 1 took 0.034s\n",
      "  training loss:\t\t0.723872\n",
      "  validation loss:\t\t0.658467\n",
      "  validation accuracy:\t\t87.50 %\n",
      "Final results:\n",
      "  test loss:\t\t\t0.704270\n",
      "  test accuracy:\t\t39.71 %\n"
     ]
    }
   ],
   "source": [
    "network=main('custom_cnn:'+ Parameters, input_var, target_var, 1)"
   ]
  },
  {
   "cell_type": "markdown",
   "metadata": {},
   "source": [
    "# Cargar valores de la red entrenada"
   ]
  },
  {
   "cell_type": "code",
   "execution_count": 6,
   "metadata": {
    "collapsed": false
   },
   "outputs": [],
   "source": [
    "network= loadNetwork(network, 'prueba')\n"
   ]
  },
  {
   "cell_type": "markdown",
   "metadata": {},
   "source": [
    "# Correr el analysis"
   ]
  },
  {
   "cell_type": "markdown",
   "metadata": {},
   "source": [
    "## Cargar imagen"
   ]
  },
  {
   "cell_type": "code",
   "execution_count": null,
   "metadata": {
    "collapsed": false
   },
   "outputs": [],
   "source": [
    "root = os.path.abspath('dataset/')\n",
    "im_path    = root + '/tree1.jpg'\n",
    "\n",
    "img = skimage.data.load(im_path)\n",
    "img = img.mean(axis=2)"
   ]
  },
  {
   "cell_type": "markdown",
   "metadata": {},
   "source": [
    "## Construir funcion"
   ]
  },
  {
   "cell_type": "code",
   "execution_count": null,
   "metadata": {
    "collapsed": false
   },
   "outputs": [],
   "source": [
    "val_prediction = lasagne.layers.get_output(network, deterministic=True)\n",
    "eval_fn = theano.function([input_var], val_prediction)\n",
    "output = np.zeros((img.shape[0], img.shape[1], 2))"
   ]
  },
  {
   "cell_type": "markdown",
   "metadata": {},
   "source": [
    "## Sliding window"
   ]
  },
  {
   "cell_type": "code",
   "execution_count": null,
   "metadata": {
    "collapsed": false
   },
   "outputs": [],
   "source": [
    "\n",
    "margin = int(math.floor(Box_size / 2))\n",
    "for x in xrange(margin, int(img.shape[0] - margin)):\n",
    "    for y in xrange(margin, int(img.shape[1]-margin)):\n",
    "        patch = img[x-margin:x+margin+1, y-margin:y+margin+1]\n",
    "        patch = patch.reshape(1,1, Box_size, Box_size)\n",
    "        output[x,y,:] = eval_fn(patch)"
   ]
  },
  {
   "cell_type": "markdown",
   "metadata": {},
   "source": [
    "## Detect Local Maxima"
   ]
  },
  {
   "cell_type": "code",
   "execution_count": null,
   "metadata": {
    "collapsed": false
   },
   "outputs": [],
   "source": [
    "# Smooth the response map\n",
    "heatmap = filters.gaussian_filter(output[:,:,1], 3) \n",
    "# Thresholding\n",
    "seg = heatmap>0.9\n",
    "# Non-maximum suppression\n",
    "detections = np.where(np.multiply(seg, heatmap == filters.maximum_filter(heatmap, 3)))\n",
    "\n",
    "print len(detections[0])"
   ]
  },
  {
   "cell_type": "markdown",
   "metadata": {
    "collapsed": false
   },
   "source": [
    "## Mostrar imagen"
   ]
  },
  {
   "cell_type": "code",
   "execution_count": null,
   "metadata": {
    "collapsed": true
   },
   "outputs": [],
   "source": [
    "fig, ax = plt.subplots()\n",
    "ax.imshow(img, interpolation='nearest', cmap=plt.cm.gray)\n",
    "plt.plot(detections[1], detections[0], 'b.', markersize=12, mew=3)\n",
    "\n",
    "    \n",
    "ax.axis('image')\n",
    "ax.set_xticks([])\n",
    "ax.set_yticks([])\n",
    "plt.show()\n",
    "plt.rcParams['figure.figsize'] = 20,20"
   ]
  },
  {
   "cell_type": "code",
   "execution_count": null,
   "metadata": {
    "collapsed": true
   },
   "outputs": [],
   "source": []
  },
  {
   "cell_type": "code",
   "execution_count": null,
   "metadata": {
    "collapsed": true
   },
   "outputs": [],
   "source": []
  }
 ],
 "metadata": {
  "kernelspec": {
   "display_name": "Python 2",
   "language": "python",
   "name": "python2"
  },
  "language_info": {
   "codemirror_mode": {
    "name": "ipython",
    "version": 2
   },
   "file_extension": ".py",
   "mimetype": "text/x-python",
   "name": "python",
   "nbconvert_exporter": "python",
   "pygments_lexer": "ipython2",
   "version": "2.7.11"
  }
 },
 "nbformat": 4,
 "nbformat_minor": 0
}
